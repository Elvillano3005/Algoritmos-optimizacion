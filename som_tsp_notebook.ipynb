{
  "cells": [
    {
      "cell_type": "markdown",
      "metadata": {
        "id": "view-in-github",
        "colab_type": "text"
      },
      "source": [
        "<a href=\"https://colab.research.google.com/github/Elvillano3005/Algoritmos-optimizacion/blob/main/som_tsp_notebook.ipynb\" target=\"_parent\"><img src=\"https://colab.research.google.com/assets/colab-badge.svg\" alt=\"Open In Colab\"/></a>"
      ]
    },
    {
      "cell_type": "markdown",
      "id": "972747e7",
      "metadata": {
        "id": "972747e7"
      },
      "source": [
        "# Self-Organizing Map para TSP\n",
        "Este notebook implementa una red de tipo SOM para resolver el problema del viajero (TSP)."
      ]
    },
    {
      "cell_type": "markdown",
      "source": [
        "## Introducción\n",
        "El **Problema del Viajante (TSP, Traveling Salesman Problem)** consiste en encontrar la ruta más corta que permite a un viajante visitar un conjunto de ciudades exactamente una vez y regresar al punto de partida. Este problema es de tipo NP-difícil y tiene aplicaciones prácticas en logística, planificación de rutas, diseño de circuitos, entre otros.\n",
        "\n",
        "Para abordar este problema, en este notebook se utiliza una red neuronal no supervisada conocida como **Self-Organizing Map (SOM)**. Los SOM, propuestos por Teuvo Kohonen, son útiles para representar estructuras topológicas de datos en espacios de menor dimensión, y se han adaptado para resolver problemas de optimización como el TSP."
      ],
      "metadata": {
        "id": "xfItgVX6sUY2"
      },
      "id": "xfItgVX6sUY2"
    },
    {
      "cell_type": "markdown",
      "source": [
        "##  ¿Qué son los archivos `.tsp`?\n",
        "Los archivos `.tsp` forman parte de la **TSPLIB**, una biblioteca de problemas estándar para TSP. Cada archivo describe las coordenadas (x, y) de un conjunto de ciudades, que se utilizan para construir la instancia del problema."
      ],
      "metadata": {
        "id": "-ADzw4MJttdW"
      },
      "id": "-ADzw4MJttdW"
    },
    {
      "cell_type": "markdown",
      "source": [
        "##  Implementación del código"
      ],
      "metadata": {
        "id": "JU3EAfCcx-xz"
      },
      "id": "JU3EAfCcx-xz"
    },
    {
      "cell_type": "markdown",
      "source": [
        "###  Carga de archivos\n",
        "Se cargan manualmente los archivos necesarios usando `files.upload()` desde Google Colab. Luego, se verifica la existencia de los módulos auxiliares:\n",
        "\n",
        "- `neuron.py`: define la estructura de las neuronas del SOM.\n",
        "- `distance.py`: calcula distancias entre ciudades y neuronas.\n",
        "- `plot.py`: genera visualizaciones del mapa de ciudades y la ruta calculada.\n",
        "- `io_helper.py`: se encarga de leer los archivos `.tsp` y procesar sus datos."
      ],
      "metadata": {
        "id": "sJ5E_epqyGVp"
      },
      "id": "sJ5E_epqyGVp"
    },
    {
      "cell_type": "code",
      "execution_count": 1,
      "id": "58e3c718",
      "metadata": {
        "colab": {
          "base_uri": "https://localhost:8080/",
          "height": 212
        },
        "collapsed": true,
        "id": "58e3c718",
        "outputId": "67f14182-170c-4125-c933-26355769933d"
      },
      "outputs": [
        {
          "output_type": "display_data",
          "data": {
            "text/plain": [
              "<IPython.core.display.HTML object>"
            ],
            "text/html": [
              "\n",
              "     <input type=\"file\" id=\"files-beb95b56-48ee-4858-97bf-386b9555b7d2\" name=\"files[]\" multiple disabled\n",
              "        style=\"border:none\" />\n",
              "     <output id=\"result-beb95b56-48ee-4858-97bf-386b9555b7d2\">\n",
              "      Upload widget is only available when the cell has been executed in the\n",
              "      current browser session. Please rerun this cell to enable.\n",
              "      </output>\n",
              "      <script>// Copyright 2017 Google LLC\n",
              "//\n",
              "// Licensed under the Apache License, Version 2.0 (the \"License\");\n",
              "// you may not use this file except in compliance with the License.\n",
              "// You may obtain a copy of the License at\n",
              "//\n",
              "//      http://www.apache.org/licenses/LICENSE-2.0\n",
              "//\n",
              "// Unless required by applicable law or agreed to in writing, software\n",
              "// distributed under the License is distributed on an \"AS IS\" BASIS,\n",
              "// WITHOUT WARRANTIES OR CONDITIONS OF ANY KIND, either express or implied.\n",
              "// See the License for the specific language governing permissions and\n",
              "// limitations under the License.\n",
              "\n",
              "/**\n",
              " * @fileoverview Helpers for google.colab Python module.\n",
              " */\n",
              "(function(scope) {\n",
              "function span(text, styleAttributes = {}) {\n",
              "  const element = document.createElement('span');\n",
              "  element.textContent = text;\n",
              "  for (const key of Object.keys(styleAttributes)) {\n",
              "    element.style[key] = styleAttributes[key];\n",
              "  }\n",
              "  return element;\n",
              "}\n",
              "\n",
              "// Max number of bytes which will be uploaded at a time.\n",
              "const MAX_PAYLOAD_SIZE = 100 * 1024;\n",
              "\n",
              "function _uploadFiles(inputId, outputId) {\n",
              "  const steps = uploadFilesStep(inputId, outputId);\n",
              "  const outputElement = document.getElementById(outputId);\n",
              "  // Cache steps on the outputElement to make it available for the next call\n",
              "  // to uploadFilesContinue from Python.\n",
              "  outputElement.steps = steps;\n",
              "\n",
              "  return _uploadFilesContinue(outputId);\n",
              "}\n",
              "\n",
              "// This is roughly an async generator (not supported in the browser yet),\n",
              "// where there are multiple asynchronous steps and the Python side is going\n",
              "// to poll for completion of each step.\n",
              "// This uses a Promise to block the python side on completion of each step,\n",
              "// then passes the result of the previous step as the input to the next step.\n",
              "function _uploadFilesContinue(outputId) {\n",
              "  const outputElement = document.getElementById(outputId);\n",
              "  const steps = outputElement.steps;\n",
              "\n",
              "  const next = steps.next(outputElement.lastPromiseValue);\n",
              "  return Promise.resolve(next.value.promise).then((value) => {\n",
              "    // Cache the last promise value to make it available to the next\n",
              "    // step of the generator.\n",
              "    outputElement.lastPromiseValue = value;\n",
              "    return next.value.response;\n",
              "  });\n",
              "}\n",
              "\n",
              "/**\n",
              " * Generator function which is called between each async step of the upload\n",
              " * process.\n",
              " * @param {string} inputId Element ID of the input file picker element.\n",
              " * @param {string} outputId Element ID of the output display.\n",
              " * @return {!Iterable<!Object>} Iterable of next steps.\n",
              " */\n",
              "function* uploadFilesStep(inputId, outputId) {\n",
              "  const inputElement = document.getElementById(inputId);\n",
              "  inputElement.disabled = false;\n",
              "\n",
              "  const outputElement = document.getElementById(outputId);\n",
              "  outputElement.innerHTML = '';\n",
              "\n",
              "  const pickedPromise = new Promise((resolve) => {\n",
              "    inputElement.addEventListener('change', (e) => {\n",
              "      resolve(e.target.files);\n",
              "    });\n",
              "  });\n",
              "\n",
              "  const cancel = document.createElement('button');\n",
              "  inputElement.parentElement.appendChild(cancel);\n",
              "  cancel.textContent = 'Cancel upload';\n",
              "  const cancelPromise = new Promise((resolve) => {\n",
              "    cancel.onclick = () => {\n",
              "      resolve(null);\n",
              "    };\n",
              "  });\n",
              "\n",
              "  // Wait for the user to pick the files.\n",
              "  const files = yield {\n",
              "    promise: Promise.race([pickedPromise, cancelPromise]),\n",
              "    response: {\n",
              "      action: 'starting',\n",
              "    }\n",
              "  };\n",
              "\n",
              "  cancel.remove();\n",
              "\n",
              "  // Disable the input element since further picks are not allowed.\n",
              "  inputElement.disabled = true;\n",
              "\n",
              "  if (!files) {\n",
              "    return {\n",
              "      response: {\n",
              "        action: 'complete',\n",
              "      }\n",
              "    };\n",
              "  }\n",
              "\n",
              "  for (const file of files) {\n",
              "    const li = document.createElement('li');\n",
              "    li.append(span(file.name, {fontWeight: 'bold'}));\n",
              "    li.append(span(\n",
              "        `(${file.type || 'n/a'}) - ${file.size} bytes, ` +\n",
              "        `last modified: ${\n",
              "            file.lastModifiedDate ? file.lastModifiedDate.toLocaleDateString() :\n",
              "                                    'n/a'} - `));\n",
              "    const percent = span('0% done');\n",
              "    li.appendChild(percent);\n",
              "\n",
              "    outputElement.appendChild(li);\n",
              "\n",
              "    const fileDataPromise = new Promise((resolve) => {\n",
              "      const reader = new FileReader();\n",
              "      reader.onload = (e) => {\n",
              "        resolve(e.target.result);\n",
              "      };\n",
              "      reader.readAsArrayBuffer(file);\n",
              "    });\n",
              "    // Wait for the data to be ready.\n",
              "    let fileData = yield {\n",
              "      promise: fileDataPromise,\n",
              "      response: {\n",
              "        action: 'continue',\n",
              "      }\n",
              "    };\n",
              "\n",
              "    // Use a chunked sending to avoid message size limits. See b/62115660.\n",
              "    let position = 0;\n",
              "    do {\n",
              "      const length = Math.min(fileData.byteLength - position, MAX_PAYLOAD_SIZE);\n",
              "      const chunk = new Uint8Array(fileData, position, length);\n",
              "      position += length;\n",
              "\n",
              "      const base64 = btoa(String.fromCharCode.apply(null, chunk));\n",
              "      yield {\n",
              "        response: {\n",
              "          action: 'append',\n",
              "          file: file.name,\n",
              "          data: base64,\n",
              "        },\n",
              "      };\n",
              "\n",
              "      let percentDone = fileData.byteLength === 0 ?\n",
              "          100 :\n",
              "          Math.round((position / fileData.byteLength) * 100);\n",
              "      percent.textContent = `${percentDone}% done`;\n",
              "\n",
              "    } while (position < fileData.byteLength);\n",
              "  }\n",
              "\n",
              "  // All done.\n",
              "  yield {\n",
              "    response: {\n",
              "      action: 'complete',\n",
              "    }\n",
              "  };\n",
              "}\n",
              "\n",
              "scope.google = scope.google || {};\n",
              "scope.google.colab = scope.google.colab || {};\n",
              "scope.google.colab._files = {\n",
              "  _uploadFiles,\n",
              "  _uploadFilesContinue,\n",
              "};\n",
              "})(self);\n",
              "</script> "
            ]
          },
          "metadata": {}
        },
        {
          "output_type": "stream",
          "name": "stdout",
          "text": [
            "Saving distance.py to distance.py\n",
            "Saving io_helper.py to io_helper.py\n",
            "Saving main.py to main.py\n",
            "Saving neuron.py to neuron.py\n",
            "Saving plot.py to plot.py\n"
          ]
        }
      ],
      "source": [
        "from google.colab import files\n",
        "\n",
        "uploaded = files.upload()\n"
      ]
    },
    {
      "cell_type": "code",
      "execution_count": 2,
      "id": "28aae23b",
      "metadata": {
        "id": "28aae23b",
        "colab": {
          "base_uri": "https://localhost:8080/"
        },
        "outputId": "c10dacb9-d7bc-403d-eafd-585919aa68c9"
      },
      "outputs": [
        {
          "output_type": "stream",
          "name": "stdout",
          "text": [
            "neuron.py: ✅\n",
            "distance.py: ✅\n",
            "plot.py: ✅\n",
            "io_helper.py: ✅\n"
          ]
        }
      ],
      "source": [
        "import os\n",
        "\n",
        "required_files = [\"neuron.py\", \"distance.py\", \"plot.py\", \"io_helper.py\"]\n",
        "for file in required_files:\n",
        "    print(f\"{file}: {'✅' if os.path.exists(file) else '❌ NO encontrado'}\")\n"
      ]
    },
    {
      "cell_type": "markdown",
      "source": [
        "### `Main.py`\n",
        "Este es el archivo principal que ejecuta el proceso completo. Su objetivo es:\n",
        "\n",
        "- Leer el archivo `.tsp` usando `read_tsp()`.\n",
        "\n",
        "- Normalizar las coordenadas.\n",
        "\n",
        "- Generar una red de neuronas.\n",
        "\n",
        "- Ejecutar el algoritmo SOM durante un número de iteraciones.\n",
        "\n",
        "- Generar visualizaciones y calcular la longitud de la ruta final."
      ],
      "metadata": {
        "id": "Kf4IP3Iu-Axc"
      },
      "id": "Kf4IP3Iu-Axc"
    },
    {
      "cell_type": "markdown",
      "source": [
        "###io_helper.py\n",
        "- Contiene funciones para trabajar con archivos .tsp y normalizar datos.\n",
        "\n",
        "- `read_tsp(filename)`: Lee archivos en formato .tsp (usado por la biblioteca TSPLIB), extrayendo las coordenadas de las ciudades.\n",
        "\n",
        "- `normalize(points)`: Normaliza las coordenadas de las ciudades para que estén en el intervalo\n",
        "[\n",
        "0\n",
        ",\n",
        "1\n",
        "]\n",
        "[0,1], manteniendo proporciones.\n",
        "\n"
      ],
      "metadata": {
        "id": "uU14pWtfAPK7"
      },
      "id": "uU14pWtfAPK7"
    },
    {
      "cell_type": "markdown",
      "source": [
        "### distance.py\n",
        "- Define funciones auxiliares para cálculos de distancia.\n",
        "\n",
        "- `select_closest(candidates, origin)`: Devuelve el índice del punto más cercano.\n",
        "\n",
        "- `euclidean_distance(a, b)`: Calcula la distancia euclidiana entre arrays de puntos.\n",
        "\n",
        "- `route_distance(cities)`: Calcula la distancia total de una ruta cerrada."
      ],
      "metadata": {
        "id": "ll7XHWVF-CZf"
      },
      "id": "ll7XHWVF-CZf"
    },
    {
      "cell_type": "markdown",
      "source": [
        "###neuron.py\n",
        "- Contiene funciones relacionadas con la red neuronal (el mapa autoorganizado).\n",
        "\n",
        "- `generate_network(size)`: Crea una red de neuronas con posiciones aleatorias en 2D.\n",
        "\n",
        "- `get_neighborhood(center, radix, domain)`: Devuelve una distribución gaussiana centrada en la neurona ganadora, usada para actualizar la red.\n",
        "\n",
        "- `get_route(cities, network)`: Asocia ciudades con neuronas y genera una ruta ordenada."
      ],
      "metadata": {
        "id": "saKwqGi4BlNZ"
      },
      "id": "saKwqGi4BlNZ"
    },
    {
      "cell_type": "markdown",
      "source": [
        "###plot.py\n",
        "- Contiene funciones para visualizar el progreso y el resultado del algoritmo.\n",
        "\n",
        "- `plot_network(cities, neurons, name)`: Muestra las ciudades y la red de neuronas en una imagen.\n",
        "\n",
        "- `plot_route(cities, route, name)`: Muestra la ruta final encontrada por el SOM."
      ],
      "metadata": {
        "id": "OAfPFphHBtsX"
      },
      "id": "OAfPFphHBtsX"
    },
    {
      "cell_type": "code",
      "execution_count": 3,
      "id": "9f6dcc5e",
      "metadata": {
        "id": "9f6dcc5e"
      },
      "outputs": [],
      "source": [
        "import numpy as np\n",
        "from neuron import generate_network, get_neighborhood, get_route\n",
        "from distance import select_closest, euclidean_distance, route_distance\n",
        "from plot import plot_network, plot_route\n",
        "from io_helper import read_tsp, normalize\n",
        "import matplotlib.pyplot as plt\n"
      ]
    },
    {
      "cell_type": "markdown",
      "source": [
        "# Imprementacion"
      ],
      "metadata": {
        "id": "_-TMrpaVmng1"
      },
      "id": "_-TMrpaVmng1"
    },
    {
      "cell_type": "code",
      "execution_count": 4,
      "id": "97472c1e",
      "metadata": {
        "id": "97472c1e"
      },
      "outputs": [],
      "source": [
        "def som(problem, iterations, learning_rate=0.8):\n",
        "    \"\"\"Solve the TSP using a Self-Organizing Map.\"\"\"\n",
        "    cities = problem.copy()\n",
        "    cities[['x', 'y']] = normalize(cities[['x', 'y']])\n",
        "    n = cities.shape[0] * 8\n",
        "    network = generate_network(n)\n",
        "    print('Network of {} neurons created. Starting the iterations:'.format(n))\n",
        "\n",
        "    for i in range(iterations):\n",
        "        if not i % 100:\n",
        "            print('\\t> Iteration {}/{}'.format(i, iterations), end=\"\\r\")\n",
        "        city = cities.sample(1)[['x', 'y']].values\n",
        "        winner_idx = select_closest(network, city)\n",
        "        gaussian = get_neighborhood(winner_idx, n//10, network.shape[0])\n",
        "        network += gaussian[:,np.newaxis] * learning_rate * (city - network)\n",
        "        learning_rate = learning_rate * 0.99997\n",
        "        n = n * 0.9997\n",
        "        if not i % 1000:\n",
        "            plot_network(cities, network, name='diagrams/{:05d}.png'.format(i))\n",
        "        if n < 1 or learning_rate < 0.001:\n",
        "            print('Decay finalizado en iteración', i)\n",
        "            break\n",
        "    else:\n",
        "        print('Completadas {} iteraciones.'.format(iterations))\n",
        "    plot_network(cities, network, name='diagrams/final.png')\n",
        "    route = get_route(cities, network)\n",
        "    plot_route(cities, route, 'diagrams/route.png')\n",
        "    plt.show()\n",
        "    return route\n"
      ]
    },
    {
      "cell_type": "markdown",
      "source": [
        "###Se carga el archivo `.tsp`"
      ],
      "metadata": {
        "id": "uIE5XeommiOs"
      },
      "id": "uIE5XeommiOs"
    },
    {
      "cell_type": "code",
      "execution_count": 6,
      "id": "4820a067",
      "metadata": {
        "id": "4820a067",
        "colab": {
          "base_uri": "https://localhost:8080/"
        },
        "outputId": "8be5c501-541d-4842-a5a6-7a449a1ed9c1"
      },
      "outputs": [
        {
          "output_type": "stream",
          "name": "stdout",
          "text": [
            "Problem with 4663 cities read.\n",
            "Network of 37304 neurons created. Starting the iterations:\n"
          ]
        },
        {
          "output_type": "stream",
          "name": "stderr",
          "text": [
            "/content/plot.py:16: UserWarning: color is redundantly defined by the 'color' keyword argument and the fmt string \"r.\" (-> color='r'). The keyword argument will take precedence.\n",
            "  axis.plot(neurons[:,0], neurons[:,1], 'r.', ls='-', color='#0063ba', markersize=2)\n"
          ]
        },
        {
          "output_type": "stream",
          "name": "stdout",
          "text": []
        },
        {
          "output_type": "stream",
          "name": "stderr",
          "text": [
            "/content/plot.py:16: UserWarning: color is redundantly defined by the 'color' keyword argument and the fmt string \"r.\" (-> color='r'). The keyword argument will take precedence.\n",
            "  axis.plot(neurons[:,0], neurons[:,1], 'r.', ls='-', color='#0063ba', markersize=2)\n"
          ]
        },
        {
          "output_type": "stream",
          "name": "stdout",
          "text": []
        },
        {
          "output_type": "stream",
          "name": "stderr",
          "text": [
            "/content/plot.py:16: UserWarning: color is redundantly defined by the 'color' keyword argument and the fmt string \"r.\" (-> color='r'). The keyword argument will take precedence.\n",
            "  axis.plot(neurons[:,0], neurons[:,1], 'r.', ls='-', color='#0063ba', markersize=2)\n"
          ]
        },
        {
          "output_type": "stream",
          "name": "stdout",
          "text": []
        },
        {
          "output_type": "stream",
          "name": "stderr",
          "text": [
            "/content/plot.py:16: UserWarning: color is redundantly defined by the 'color' keyword argument and the fmt string \"r.\" (-> color='r'). The keyword argument will take precedence.\n",
            "  axis.plot(neurons[:,0], neurons[:,1], 'r.', ls='-', color='#0063ba', markersize=2)\n"
          ]
        },
        {
          "output_type": "stream",
          "name": "stdout",
          "text": []
        },
        {
          "output_type": "stream",
          "name": "stderr",
          "text": [
            "/content/plot.py:16: UserWarning: color is redundantly defined by the 'color' keyword argument and the fmt string \"r.\" (-> color='r'). The keyword argument will take precedence.\n",
            "  axis.plot(neurons[:,0], neurons[:,1], 'r.', ls='-', color='#0063ba', markersize=2)\n"
          ]
        },
        {
          "output_type": "stream",
          "name": "stdout",
          "text": []
        },
        {
          "output_type": "stream",
          "name": "stderr",
          "text": [
            "/content/plot.py:16: UserWarning: color is redundantly defined by the 'color' keyword argument and the fmt string \"r.\" (-> color='r'). The keyword argument will take precedence.\n",
            "  axis.plot(neurons[:,0], neurons[:,1], 'r.', ls='-', color='#0063ba', markersize=2)\n"
          ]
        },
        {
          "output_type": "stream",
          "name": "stdout",
          "text": []
        },
        {
          "output_type": "stream",
          "name": "stderr",
          "text": [
            "/content/plot.py:16: UserWarning: color is redundantly defined by the 'color' keyword argument and the fmt string \"r.\" (-> color='r'). The keyword argument will take precedence.\n",
            "  axis.plot(neurons[:,0], neurons[:,1], 'r.', ls='-', color='#0063ba', markersize=2)\n"
          ]
        },
        {
          "output_type": "stream",
          "name": "stdout",
          "text": []
        },
        {
          "output_type": "stream",
          "name": "stderr",
          "text": [
            "/content/plot.py:16: UserWarning: color is redundantly defined by the 'color' keyword argument and the fmt string \"r.\" (-> color='r'). The keyword argument will take precedence.\n",
            "  axis.plot(neurons[:,0], neurons[:,1], 'r.', ls='-', color='#0063ba', markersize=2)\n"
          ]
        },
        {
          "output_type": "stream",
          "name": "stdout",
          "text": []
        },
        {
          "output_type": "stream",
          "name": "stderr",
          "text": [
            "/content/plot.py:16: UserWarning: color is redundantly defined by the 'color' keyword argument and the fmt string \"r.\" (-> color='r'). The keyword argument will take precedence.\n",
            "  axis.plot(neurons[:,0], neurons[:,1], 'r.', ls='-', color='#0063ba', markersize=2)\n"
          ]
        },
        {
          "output_type": "stream",
          "name": "stdout",
          "text": []
        },
        {
          "output_type": "stream",
          "name": "stderr",
          "text": [
            "/content/plot.py:16: UserWarning: color is redundantly defined by the 'color' keyword argument and the fmt string \"r.\" (-> color='r'). The keyword argument will take precedence.\n",
            "  axis.plot(neurons[:,0], neurons[:,1], 'r.', ls='-', color='#0063ba', markersize=2)\n"
          ]
        },
        {
          "output_type": "stream",
          "name": "stdout",
          "text": []
        },
        {
          "output_type": "stream",
          "name": "stderr",
          "text": [
            "/content/plot.py:16: UserWarning: color is redundantly defined by the 'color' keyword argument and the fmt string \"r.\" (-> color='r'). The keyword argument will take precedence.\n",
            "  axis.plot(neurons[:,0], neurons[:,1], 'r.', ls='-', color='#0063ba', markersize=2)\n"
          ]
        },
        {
          "output_type": "stream",
          "name": "stdout",
          "text": []
        },
        {
          "output_type": "stream",
          "name": "stderr",
          "text": [
            "/content/plot.py:16: UserWarning: color is redundantly defined by the 'color' keyword argument and the fmt string \"r.\" (-> color='r'). The keyword argument will take precedence.\n",
            "  axis.plot(neurons[:,0], neurons[:,1], 'r.', ls='-', color='#0063ba', markersize=2)\n"
          ]
        },
        {
          "output_type": "stream",
          "name": "stdout",
          "text": []
        },
        {
          "output_type": "stream",
          "name": "stderr",
          "text": [
            "/content/plot.py:16: UserWarning: color is redundantly defined by the 'color' keyword argument and the fmt string \"r.\" (-> color='r'). The keyword argument will take precedence.\n",
            "  axis.plot(neurons[:,0], neurons[:,1], 'r.', ls='-', color='#0063ba', markersize=2)\n"
          ]
        },
        {
          "output_type": "stream",
          "name": "stdout",
          "text": []
        },
        {
          "output_type": "stream",
          "name": "stderr",
          "text": [
            "/content/plot.py:16: UserWarning: color is redundantly defined by the 'color' keyword argument and the fmt string \"r.\" (-> color='r'). The keyword argument will take precedence.\n",
            "  axis.plot(neurons[:,0], neurons[:,1], 'r.', ls='-', color='#0063ba', markersize=2)\n"
          ]
        },
        {
          "output_type": "stream",
          "name": "stdout",
          "text": []
        },
        {
          "output_type": "stream",
          "name": "stderr",
          "text": [
            "/content/plot.py:16: UserWarning: color is redundantly defined by the 'color' keyword argument and the fmt string \"r.\" (-> color='r'). The keyword argument will take precedence.\n",
            "  axis.plot(neurons[:,0], neurons[:,1], 'r.', ls='-', color='#0063ba', markersize=2)\n"
          ]
        },
        {
          "output_type": "stream",
          "name": "stdout",
          "text": []
        },
        {
          "output_type": "stream",
          "name": "stderr",
          "text": [
            "/content/plot.py:16: UserWarning: color is redundantly defined by the 'color' keyword argument and the fmt string \"r.\" (-> color='r'). The keyword argument will take precedence.\n",
            "  axis.plot(neurons[:,0], neurons[:,1], 'r.', ls='-', color='#0063ba', markersize=2)\n"
          ]
        },
        {
          "output_type": "stream",
          "name": "stdout",
          "text": []
        },
        {
          "output_type": "stream",
          "name": "stderr",
          "text": [
            "/content/plot.py:16: UserWarning: color is redundantly defined by the 'color' keyword argument and the fmt string \"r.\" (-> color='r'). The keyword argument will take precedence.\n",
            "  axis.plot(neurons[:,0], neurons[:,1], 'r.', ls='-', color='#0063ba', markersize=2)\n"
          ]
        },
        {
          "output_type": "stream",
          "name": "stdout",
          "text": []
        },
        {
          "output_type": "stream",
          "name": "stderr",
          "text": [
            "/content/plot.py:16: UserWarning: color is redundantly defined by the 'color' keyword argument and the fmt string \"r.\" (-> color='r'). The keyword argument will take precedence.\n",
            "  axis.plot(neurons[:,0], neurons[:,1], 'r.', ls='-', color='#0063ba', markersize=2)\n"
          ]
        },
        {
          "output_type": "stream",
          "name": "stdout",
          "text": []
        },
        {
          "output_type": "stream",
          "name": "stderr",
          "text": [
            "/content/plot.py:16: UserWarning: color is redundantly defined by the 'color' keyword argument and the fmt string \"r.\" (-> color='r'). The keyword argument will take precedence.\n",
            "  axis.plot(neurons[:,0], neurons[:,1], 'r.', ls='-', color='#0063ba', markersize=2)\n"
          ]
        },
        {
          "output_type": "stream",
          "name": "stdout",
          "text": []
        },
        {
          "output_type": "stream",
          "name": "stderr",
          "text": [
            "/content/plot.py:16: UserWarning: color is redundantly defined by the 'color' keyword argument and the fmt string \"r.\" (-> color='r'). The keyword argument will take precedence.\n",
            "  axis.plot(neurons[:,0], neurons[:,1], 'r.', ls='-', color='#0063ba', markersize=2)\n"
          ]
        },
        {
          "output_type": "stream",
          "name": "stdout",
          "text": []
        },
        {
          "output_type": "stream",
          "name": "stderr",
          "text": [
            "/content/plot.py:16: UserWarning: color is redundantly defined by the 'color' keyword argument and the fmt string \"r.\" (-> color='r'). The keyword argument will take precedence.\n",
            "  axis.plot(neurons[:,0], neurons[:,1], 'r.', ls='-', color='#0063ba', markersize=2)\n"
          ]
        },
        {
          "output_type": "stream",
          "name": "stdout",
          "text": []
        },
        {
          "output_type": "stream",
          "name": "stderr",
          "text": [
            "/content/plot.py:16: UserWarning: color is redundantly defined by the 'color' keyword argument and the fmt string \"r.\" (-> color='r'). The keyword argument will take precedence.\n",
            "  axis.plot(neurons[:,0], neurons[:,1], 'r.', ls='-', color='#0063ba', markersize=2)\n"
          ]
        },
        {
          "output_type": "stream",
          "name": "stdout",
          "text": []
        },
        {
          "output_type": "stream",
          "name": "stderr",
          "text": [
            "/content/plot.py:16: UserWarning: color is redundantly defined by the 'color' keyword argument and the fmt string \"r.\" (-> color='r'). The keyword argument will take precedence.\n",
            "  axis.plot(neurons[:,0], neurons[:,1], 'r.', ls='-', color='#0063ba', markersize=2)\n"
          ]
        },
        {
          "output_type": "stream",
          "name": "stdout",
          "text": []
        },
        {
          "output_type": "stream",
          "name": "stderr",
          "text": [
            "/content/plot.py:16: UserWarning: color is redundantly defined by the 'color' keyword argument and the fmt string \"r.\" (-> color='r'). The keyword argument will take precedence.\n",
            "  axis.plot(neurons[:,0], neurons[:,1], 'r.', ls='-', color='#0063ba', markersize=2)\n"
          ]
        },
        {
          "output_type": "stream",
          "name": "stdout",
          "text": []
        },
        {
          "output_type": "stream",
          "name": "stderr",
          "text": [
            "/content/plot.py:16: UserWarning: color is redundantly defined by the 'color' keyword argument and the fmt string \"r.\" (-> color='r'). The keyword argument will take precedence.\n",
            "  axis.plot(neurons[:,0], neurons[:,1], 'r.', ls='-', color='#0063ba', markersize=2)\n"
          ]
        },
        {
          "output_type": "stream",
          "name": "stdout",
          "text": []
        },
        {
          "output_type": "stream",
          "name": "stderr",
          "text": [
            "/content/plot.py:16: UserWarning: color is redundantly defined by the 'color' keyword argument and the fmt string \"r.\" (-> color='r'). The keyword argument will take precedence.\n",
            "  axis.plot(neurons[:,0], neurons[:,1], 'r.', ls='-', color='#0063ba', markersize=2)\n"
          ]
        },
        {
          "output_type": "stream",
          "name": "stdout",
          "text": []
        },
        {
          "output_type": "stream",
          "name": "stderr",
          "text": [
            "/content/plot.py:16: UserWarning: color is redundantly defined by the 'color' keyword argument and the fmt string \"r.\" (-> color='r'). The keyword argument will take precedence.\n",
            "  axis.plot(neurons[:,0], neurons[:,1], 'r.', ls='-', color='#0063ba', markersize=2)\n"
          ]
        },
        {
          "output_type": "stream",
          "name": "stdout",
          "text": []
        },
        {
          "output_type": "stream",
          "name": "stderr",
          "text": [
            "/content/plot.py:16: UserWarning: color is redundantly defined by the 'color' keyword argument and the fmt string \"r.\" (-> color='r'). The keyword argument will take precedence.\n",
            "  axis.plot(neurons[:,0], neurons[:,1], 'r.', ls='-', color='#0063ba', markersize=2)\n"
          ]
        },
        {
          "output_type": "stream",
          "name": "stdout",
          "text": []
        },
        {
          "output_type": "stream",
          "name": "stderr",
          "text": [
            "/content/plot.py:16: UserWarning: color is redundantly defined by the 'color' keyword argument and the fmt string \"r.\" (-> color='r'). The keyword argument will take precedence.\n",
            "  axis.plot(neurons[:,0], neurons[:,1], 'r.', ls='-', color='#0063ba', markersize=2)\n"
          ]
        },
        {
          "output_type": "stream",
          "name": "stdout",
          "text": []
        },
        {
          "output_type": "stream",
          "name": "stderr",
          "text": [
            "/content/plot.py:16: UserWarning: color is redundantly defined by the 'color' keyword argument and the fmt string \"r.\" (-> color='r'). The keyword argument will take precedence.\n",
            "  axis.plot(neurons[:,0], neurons[:,1], 'r.', ls='-', color='#0063ba', markersize=2)\n"
          ]
        },
        {
          "output_type": "stream",
          "name": "stdout",
          "text": []
        },
        {
          "output_type": "stream",
          "name": "stderr",
          "text": [
            "/content/plot.py:16: UserWarning: color is redundantly defined by the 'color' keyword argument and the fmt string \"r.\" (-> color='r'). The keyword argument will take precedence.\n",
            "  axis.plot(neurons[:,0], neurons[:,1], 'r.', ls='-', color='#0063ba', markersize=2)\n"
          ]
        },
        {
          "output_type": "stream",
          "name": "stdout",
          "text": []
        },
        {
          "output_type": "stream",
          "name": "stderr",
          "text": [
            "/content/plot.py:16: UserWarning: color is redundantly defined by the 'color' keyword argument and the fmt string \"r.\" (-> color='r'). The keyword argument will take precedence.\n",
            "  axis.plot(neurons[:,0], neurons[:,1], 'r.', ls='-', color='#0063ba', markersize=2)\n"
          ]
        },
        {
          "output_type": "stream",
          "name": "stdout",
          "text": []
        },
        {
          "output_type": "stream",
          "name": "stderr",
          "text": [
            "/content/plot.py:16: UserWarning: color is redundantly defined by the 'color' keyword argument and the fmt string \"r.\" (-> color='r'). The keyword argument will take precedence.\n",
            "  axis.plot(neurons[:,0], neurons[:,1], 'r.', ls='-', color='#0063ba', markersize=2)\n"
          ]
        },
        {
          "output_type": "stream",
          "name": "stdout",
          "text": []
        },
        {
          "output_type": "stream",
          "name": "stderr",
          "text": [
            "/content/plot.py:16: UserWarning: color is redundantly defined by the 'color' keyword argument and the fmt string \"r.\" (-> color='r'). The keyword argument will take precedence.\n",
            "  axis.plot(neurons[:,0], neurons[:,1], 'r.', ls='-', color='#0063ba', markersize=2)\n"
          ]
        },
        {
          "output_type": "stream",
          "name": "stdout",
          "text": []
        },
        {
          "output_type": "stream",
          "name": "stderr",
          "text": [
            "/content/plot.py:16: UserWarning: color is redundantly defined by the 'color' keyword argument and the fmt string \"r.\" (-> color='r'). The keyword argument will take precedence.\n",
            "  axis.plot(neurons[:,0], neurons[:,1], 'r.', ls='-', color='#0063ba', markersize=2)\n"
          ]
        },
        {
          "output_type": "stream",
          "name": "stdout",
          "text": []
        },
        {
          "output_type": "stream",
          "name": "stderr",
          "text": [
            "/content/plot.py:16: UserWarning: color is redundantly defined by the 'color' keyword argument and the fmt string \"r.\" (-> color='r'). The keyword argument will take precedence.\n",
            "  axis.plot(neurons[:,0], neurons[:,1], 'r.', ls='-', color='#0063ba', markersize=2)\n"
          ]
        },
        {
          "output_type": "stream",
          "name": "stdout",
          "text": [
            "Decay finalizado en iteración 35084\n"
          ]
        },
        {
          "output_type": "stream",
          "name": "stderr",
          "text": [
            "/content/plot.py:16: UserWarning: color is redundantly defined by the 'color' keyword argument and the fmt string \"r.\" (-> color='r'). The keyword argument will take precedence.\n",
            "  axis.plot(neurons[:,0], neurons[:,1], 'r.', ls='-', color='#0063ba', markersize=2)\n"
          ]
        },
        {
          "output_type": "stream",
          "name": "stdout",
          "text": [
            "Route found of length 1491684.5156227215\n"
          ]
        }
      ],
      "source": [
        "filename = \"ca4663.tsp\"\n",
        "problem = read_tsp(filename)\n",
        "\n",
        "route = som(problem, 100000)\n",
        "\n",
        "problem = problem.reindex(route)\n",
        "distance = route_distance(problem)\n",
        "\n",
        "print('Route found of length {}'.format(distance))\n"
      ]
    },
    {
      "cell_type": "markdown",
      "source": [
        "###   Visualización de Resultados\n",
        "Al finalizar el entrenamiento, se visualiza el recorrido obtenido con las neuronas sobre el mapa de ciudades. Esta visualización permite comparar la solución aproximada generada por el SOM con la distribución real de las ciudades."
      ],
      "metadata": {
        "id": "_yRJ3S9Nyenh"
      },
      "id": "_yRJ3S9Nyenh"
    },
    {
      "cell_type": "markdown",
      "source": [
        "# Resultados"
      ],
      "metadata": {
        "id": "RiMwqqicmvgT"
      },
      "id": "RiMwqqicmvgT"
    },
    {
      "cell_type": "code",
      "source": [
        "import matplotlib.pyplot as plt\n",
        "import matplotlib.image as mpgimg\n",
        "\n",
        "image_path = 'diagrams/route.png'\n",
        "image = mpgimg.imread(image_path)\n",
        "image_path2 = 'diagrams/final.png'\n",
        "image2 = mpgimg.imread(image_path2)\n",
        "\n",
        "plt.imshow(image)\n",
        "plt.show()\n",
        "plt.imshow(image2)\n",
        "plt.show()"
      ],
      "metadata": {
        "colab": {
          "base_uri": "https://localhost:8080/",
          "height": 853
        },
        "id": "zU5K-CG-PVJK",
        "outputId": "ae10ba23-71bb-4862-e11c-a148eb6d67a6"
      },
      "id": "zU5K-CG-PVJK",
      "execution_count": 8,
      "outputs": [
        {
          "output_type": "display_data",
          "data": {
            "text/plain": [
              "<Figure size 640x480 with 1 Axes>"
            ],
            "image/png": "[encoded data removed]"
          },
          "metadata": {}
        },
        {
          "output_type": "display_data",
          "data": {
            "text/plain": [
              "<Figure size 640x480 with 1 Axes>"
            ],
            "image/png": "[encoded data removed]"
          },
          "metadata": {}
        }
      ]
    },
    {
      "cell_type": "markdown",
      "source": [
        "##  Conclusiones\n",
        "- El enfoque con SOM para resolver el TSP es una solución heurística efectiva y visualmente intuitiva.\n",
        "- Aunque no garantiza la mejor ruta posible, ofrece una buena aproximación con menor costo computacional.\n",
        "- Es importante ajustar correctamente los parámetros del SOM para obtener buenos resultados."
      ],
      "metadata": {
        "id": "rKPJUbA2uLB6"
      },
      "id": "rKPJUbA2uLB6"
    }
  ],
  "metadata": {
    "colab": {
      "provenance": [],
      "include_colab_link": true
    },
    "language_info": {
      "name": "python"
    },
    "kernelspec": {
      "name": "python3",
      "display_name": "Python 3"
    }
  },
  "nbformat": 4,
  "nbformat_minor": 5
}